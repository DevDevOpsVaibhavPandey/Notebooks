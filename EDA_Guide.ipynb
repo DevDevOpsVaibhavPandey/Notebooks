{
  "nbformat": 4,
  "nbformat_minor": 0,
  "metadata": {
    "colab": {
      "provenance": [],
      "authorship_tag": "ABX9TyN5rLKjzps34XP3S80qmtft",
      "include_colab_link": true
    },
    "kernelspec": {
      "name": "python3",
      "display_name": "Python 3"
    },
    "language_info": {
      "name": "python"
    }
  },
  "cells": [
    {
      "cell_type": "markdown",
      "metadata": {
        "id": "view-in-github",
        "colab_type": "text"
      },
      "source": [
        "<a href=\"https://colab.research.google.com/github/DevDevOpsVaibhavPandey/Notebooks/blob/main/EDA_Guide.ipynb\" target=\"_parent\"><img src=\"https://colab.research.google.com/assets/colab-badge.svg\" alt=\"Open In Colab\"/></a>"
      ]
    },
    {
      "cell_type": "markdown",
      "source": [
        "### Understanding data : Initial Analysis"
      ],
      "metadata": {
        "id": "uHMdZFFnVw63"
      }
    },
    {
      "cell_type": "code",
      "source": [
        "# How big is your data?\n",
        "df.shape\n",
        "\n",
        "# How does your data look like?\n",
        "df.head()\n",
        "df.sample(5)\n",
        "\n",
        "# What is the data type of cols?\n",
        "df.info()\n",
        "\n",
        "# Are there any missing values?\n",
        "df.isnull().sum()\n",
        "\n",
        "# How does the data look mathematically?\n",
        "df.describe()\n",
        "\n",
        "# Are there duplicate values?\n",
        "df.duplicated().sum()\n",
        "\n",
        "# How is the correlation between cols?\n",
        "df.corr()"
      ],
      "metadata": {
        "id": "SpwqFZjKV5SC"
      },
      "execution_count": null,
      "outputs": []
    },
    {
      "cell_type": "markdown",
      "source": [
        "### Univariate Analysis:\n",
        "\n",
        "- Types of data : Numerical data & Categorical data\n",
        "- Univariate analysis focuses on a single feature throughout the dataset, we use data visualization for better analysis.  "
      ],
      "metadata": {
        "id": "-IjFSbyuN5s-"
      }
    },
    {
      "cell_type": "code",
      "source": [
        "import seaborn as sns\n",
        "import matplotlib.pyplot as plt"
      ],
      "metadata": {
        "id": "WLSvhS70rOT_"
      },
      "execution_count": null,
      "outputs": []
    },
    {
      "cell_type": "code",
      "source": [
        "## For Categorical Data ##\n",
        "\n",
        "# Countplot #\n",
        "#Bar graph\n",
        "sns.countplot(df['<Feature>'])\n",
        "df['<Feature>'].value_counts().plot(kind='bar')\n",
        "\n",
        "#Pie chart\n",
        "df['<Feature>'].value_counts().plot(kind='pie',autopct='%.2f')"
      ],
      "metadata": {
        "id": "a2TjxC0UYkBi"
      },
      "execution_count": null,
      "outputs": []
    },
    {
      "cell_type": "code",
      "source": [
        "## For Numerical Data ##\n",
        "\n",
        "# Histogram #\n",
        "# Divide the numerical data into categorical bins for a better view on data distribution\n",
        "plt.hist(df['<Feature>'],bins=5)\n",
        "\n",
        "# Displot #\n",
        "# Calculate the probablistic kernel : which helps us calculate the probability of a datapoint\n",
        "sns.distplot(df['<Feature>'])\n",
        "\n",
        "# Boxplot #\n",
        "# Calcultes the meadian, 2nd & 3rd quater percentile & outliers for a given dataset\n",
        "sns.boxplot(df['<Feature>'])"
      ],
      "metadata": {
        "id": "jcZhCsxYhf7K"
      },
      "execution_count": null,
      "outputs": []
    },
    {
      "cell_type": "markdown",
      "source": [
        "### Bivariate & Multivariate Analysis"
      ],
      "metadata": {
        "id": "Vj6GIAFVipjo"
      }
    },
    {
      "cell_type": "markdown",
      "source": [
        "Bivariate & Multivariate Analysis, initially the analysis depends on what kind of feature data types are being compared, then we can extract a reasonable amount of information from the data using data visualization techniques."
      ],
      "metadata": {
        "id": "jSWPsIl2xAoh"
      }
    },
    {
      "cell_type": "code",
      "source": [
        "# Scatterplot (Numerical - Numerical)\n",
        "sns.scatterplot(df['<Feature>'],df['<Feature>'],hue=df['<Feature>'],style=df['<Feature>'],size=df['<Feature>'])\n",
        "\n",
        "# Bar Plot (Numerical - Categorical)\n",
        "sns.barplot(df['<Feature>'],df['<Feature>'],hue=df['<Feature>'])\n",
        "\n",
        "# Box Plot (Numerical - Categorical)\n",
        "sns.boxplot(df['<Feature>'],df['<Feature>'])\n",
        "\n",
        "# Distplot (Numerical - Categorical)\n",
        "sns.distplot(df[df['<Feature>']==0]['<Feature>'],hist=False)\n",
        "sns.distplot(df[df['<Feature>']==1]['<Feature>'],hist=False)\n",
        "\n",
        "# HeatMap (Categorical - Categorical)\n",
        "sns.heatmap(pd.crosstab(df['<Feature>'],df['<Feature>']))\n",
        "\n",
        "# ClusterMap (Categorical - Categorical)\n",
        "sns.clustermap(pd.crosstab(df['<Feature>'],df['<Feature>']))\n",
        "\n",
        "# Pairplot\n",
        "sns.pairplot(<Dataset>,hue='<Feature>')\n",
        "\n",
        "# Lineplot (Numerical - Numerical)\n",
        "sns.lineplot(new['<Feature>'],new['<Feature>'])"
      ],
      "metadata": {
        "id": "3Laqdt_1iuXn"
      },
      "execution_count": null,
      "outputs": []
    }
  ]
}