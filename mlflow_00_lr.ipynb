{
  "nbformat": 4,
  "nbformat_minor": 0,
  "metadata": {
    "colab": {
      "provenance": [],
      "authorship_tag": "ABX9TyPx8ZEKWudulQMwi1QNxv/b",
      "include_colab_link": true
    },
    "kernelspec": {
      "name": "python3",
      "display_name": "Python 3"
    },
    "language_info": {
      "name": "python"
    }
  },
  "cells": [
    {
      "cell_type": "markdown",
      "metadata": {
        "id": "view-in-github",
        "colab_type": "text"
      },
      "source": [
        "<a href=\"https://colab.research.google.com/github/DevDevOpsVaibhavPandey/Notebooks/blob/main/mlflow_00_lr.ipynb\" target=\"_parent\"><img src=\"https://colab.research.google.com/assets/colab-badge.svg\" alt=\"Open In Colab\"/></a>"
      ]
    },
    {
      "cell_type": "markdown",
      "source": [
        "### Handling packages"
      ],
      "metadata": {
        "id": "xRE37WwgYXod"
      }
    },
    {
      "cell_type": "code",
      "source": [
        "!unzip -C \"/content/ieee-fraud-detection.zip\""
      ],
      "metadata": {
        "colab": {
          "base_uri": "https://localhost:8080/"
        },
        "id": "2ngk_6V3jWX-",
        "outputId": "0bbb114b-e9fc-4107-e49d-fd8fa0408726"
      },
      "execution_count": 2,
      "outputs": [
        {
          "output_type": "stream",
          "name": "stdout",
          "text": [
            "Archive:  /content/ieee-fraud-detection.zip\n",
            "replace sample_submission.csv? [y]es, [n]o, [A]ll, [N]one, [r]ename: n\n",
            "replace test_identity.csv? [y]es, [n]o, [A]ll, [N]one, [r]ename: n\n",
            "replace test_transaction.csv? [y]es, [n]o, [A]ll, [N]one, [r]ename: n\n",
            "replace train_identity.csv? [y]es, [n]o, [A]ll, [N]one, [r]ename: n\n",
            "replace train_transaction.csv? [y]es, [n]o, [A]ll, [N]one, [r]ename: n\n"
          ]
        }
      ]
    },
    {
      "cell_type": "code",
      "source": [
        "!pip install --upgrade pip setuptools wheel\n",
        "!pip install -q scikit-learn mlflow dagshub"
      ],
      "metadata": {
        "colab": {
          "base_uri": "https://localhost:8080/"
        },
        "id": "qrEiRotUJTrr",
        "outputId": "6f8a530b-8509-4ad3-b5b7-3f6c0af09d62"
      },
      "execution_count": 3,
      "outputs": [
        {
          "output_type": "stream",
          "name": "stdout",
          "text": [
            "Requirement already satisfied: pip in /usr/local/lib/python3.11/dist-packages (25.0)\n",
            "Requirement already satisfied: setuptools in /usr/local/lib/python3.11/dist-packages (75.8.0)\n",
            "Requirement already satisfied: wheel in /usr/local/lib/python3.11/dist-packages (0.45.1)\n"
          ]
        }
      ]
    },
    {
      "cell_type": "markdown",
      "source": [
        "### Handling imports"
      ],
      "metadata": {
        "id": "Be8uC5daYckE"
      }
    },
    {
      "cell_type": "code",
      "execution_count": 7,
      "metadata": {
        "id": "pY4g1OVjthfC"
      },
      "outputs": [],
      "source": [
        "# Import Libraries\n",
        "import pandas as pd\n",
        "import numpy as np\n",
        "import gc\n",
        "from sklearn.preprocessing import LabelEncoder\n",
        "from sklearn.model_selection import train_test_split, StratifiedKFold\n",
        "from sklearn.metrics import roc_auc_score, classification_report, confusion_matrix\n",
        "import warnings\n",
        "import mlflow\n",
        "from mlflow.models import infer_signature\n",
        "\n",
        "# Suppress warnings\n",
        "warnings.filterwarnings(\"ignore\")"
      ]
    },
    {
      "cell_type": "markdown",
      "source": [
        "### Util method for memory management"
      ],
      "metadata": {
        "id": "IysB2vM9YgRa"
      }
    },
    {
      "cell_type": "code",
      "source": [
        "def reduce_memory_usage(df):\n",
        "    start_mem = df.memory_usage().sum() / 1024**2\n",
        "    for col in df.columns:\n",
        "        col_type = df[col].dtype\n",
        "        if col_type not in ['object', 'category']:\n",
        "            c_min = df[col].min()\n",
        "            c_max = df[col].max()\n",
        "            if str(col_type)[:3] == 'int':\n",
        "                if c_min > np.iinfo(np.int8).min and c_max < np.iinfo(np.int8).max:\n",
        "                    df[col] = df[col].astype(np.int8)\n",
        "                elif c_min > np.iinfo(np.int16).min and c_max < np.iinfo(np.int16).max:\n",
        "                    df[col] = df[col].astype(np.int16)\n",
        "                elif c_min > np.iinfo(np.int32).min and c_max < np.iinfo(np.int32).max:\n",
        "                    df[col] = df[col].astype(np.int32)\n",
        "                elif c_min > np.iinfo(np.int64).min and c_max < np.iinfo(np.int64).max:\n",
        "                    df[col] = df[col].astype(np.int64)\n",
        "            else:\n",
        "                # Avoid converting to float16 if the column is used in one-hot encoding\n",
        "                if c_min > np.finfo(np.float32).min and c_max < np.finfo(np.float32).max:\n",
        "                    df[col] = df[col].astype(np.float32)\n",
        "                else:\n",
        "                    df[col] = df[col].astype(np.float64)\n",
        "    end_mem = df.memory_usage().sum() / 1024**2\n",
        "    print(f'Mem. usage decreased to {end_mem:.2f} Mb ({100 * (start_mem - end_mem) / start_mem:.1f}% reduction)')\n",
        "    return df"
      ],
      "metadata": {
        "id": "LC63VN0zjSGH"
      },
      "execution_count": 5,
      "outputs": []
    },
    {
      "cell_type": "markdown",
      "source": [
        "### Data Pre-processing"
      ],
      "metadata": {
        "id": "_Sq8D9yiYk0-"
      }
    },
    {
      "cell_type": "code",
      "source": [
        "from sklearn.preprocessing import LabelEncoder\n",
        "\n",
        "def load_data_with_scaling_and_encoding():\n",
        "    train_transaction = pd.read_csv('/content/train_transaction.csv')\n",
        "    train_identity = pd.read_csv('/content/train_identity.csv')\n",
        "    test_transaction = pd.read_csv('/content/test_transaction.csv')\n",
        "    test_identity = pd.read_csv('/content/test_identity.csv')\n",
        "\n",
        "    # Standardize column names\n",
        "    test_identity.columns = test_identity.columns.str.replace('-', '_')\n",
        "    test_transaction.columns = test_transaction.columns.str.replace('-', '_')\n",
        "\n",
        "    train = train_transaction.merge(train_identity, how='left', on='TransactionID')\n",
        "    test = test_transaction.merge(test_identity, how='left', on='TransactionID')\n",
        "\n",
        "    # Free up memory\n",
        "    del train_transaction, train_identity, test_transaction, test_identity\n",
        "    gc.collect()\n",
        "\n",
        "    # Apply memory optimization\n",
        "    train = reduce_memory_usage(train)\n",
        "    test = reduce_memory_usage(test)\n",
        "\n",
        "    # Handle missing values\n",
        "    train.fillna(-999, inplace=True)\n",
        "    test.fillna(-999, inplace=True)\n",
        "\n",
        "    # Define categorical features\n",
        "    categorical_features = [\n",
        "        'ProductCD', 'card4', 'card6', 'P_emaildomain', 'R_emaildomain',\n",
        "        'M1', 'M2', 'M3', 'M4', 'M5', 'M6', 'M7', 'M8', 'M9',\n",
        "        'id_33', 'id_34', 'DeviceType', 'DeviceInfo'\n",
        "    ]\n",
        "    categorical_features += [f'id_{i}' for i in range(12, 39)]\n",
        "\n",
        "    # Encode categorical features\n",
        "    for col in categorical_features:\n",
        "        if col in train.columns:\n",
        "            # Convert all values to strings to handle mixed data types\n",
        "            train[col] = train[col].astype(str)\n",
        "            test[col] = test[col].astype(str)\n",
        "\n",
        "            le = LabelEncoder()\n",
        "            combined_data = pd.concat([train[col], test[col]], axis=0)\n",
        "            le.fit(combined_data)\n",
        "            train[col] = le.transform(train[col])\n",
        "            test[col] = le.transform(test[col])\n",
        "\n",
        "    return train, test\n",
        "\n",
        "# Load data\n",
        "train, test = load_data_with_scaling_and_encoding()"
      ],
      "metadata": {
        "colab": {
          "base_uri": "https://localhost:8080/"
        },
        "id": "YdxdTgTXjoTd",
        "outputId": "4b8f66f4-7152-4052-f5fb-35bad7be6feb"
      },
      "execution_count": 6,
      "outputs": [
        {
          "metadata": {
            "tags": null
          },
          "name": "stdout",
          "output_type": "stream",
          "text": [
            "Mem. usage decreased to 1044.70 Mb (46.6% reduction)\n",
            "Mem. usage decreased to 895.89 Mb (46.5% reduction)\n"
          ]
        }
      ]
    },
    {
      "cell_type": "code",
      "source": [
        "# Prepare features and target\n",
        "X = train.drop(columns=['isFraud', 'TransactionID'])\n",
        "y = train['isFraud']\n",
        "X_test = test.drop(columns=['isFraud', 'TransactionID'], errors='ignore')\n",
        "\n",
        "# Train-validation split\n",
        "X_train, X_val, y_train, y_val = train_test_split(\n",
        "    X, y, test_size=0.2, stratify=y, random_state=42\n",
        ")"
      ],
      "metadata": {
        "id": "wH75EsQKjxQm"
      },
      "execution_count": 8,
      "outputs": []
    },
    {
      "cell_type": "markdown",
      "source": [
        "### Model Training"
      ],
      "metadata": {
        "id": "Dw8bq2cmYpbZ"
      }
    },
    {
      "cell_type": "code",
      "source": [
        "from sklearn.linear_model import LogisticRegression\n",
        "from sklearn.metrics import roc_auc_score, classification_report, confusion_matrix\n",
        "\n",
        "params = {\n",
        "            'solver': 'liblinear',\n",
        "            'random_state': 42\n",
        "        }\n",
        "\n",
        "def train_and_evaluate_logistic_regression(X_train, y_train, X_val, y_val):\n",
        "\n",
        "    global params\n",
        "\n",
        "    if params is None:\n",
        "        params = {}\n",
        "\n",
        "    # Initialize Logistic Regression model\n",
        "    model = LogisticRegression(**params)\n",
        "\n",
        "    # Train the model\n",
        "    model.fit(X_train, y_train)\n",
        "\n",
        "    # Predict probabilities\n",
        "    val_pred_prob = model.predict_proba(X_val)[:, 1]  # Get probabilities for the positive class\n",
        "\n",
        "    # Compute AUC score\n",
        "    auc_score = roc_auc_score(y_val, val_pred_prob)\n",
        "    print(f'Logistic Regression Validation AUC: {auc_score:.4f}')\n",
        "\n",
        "    # Convert probabilities to binary class predictions (threshold = 0.5)\n",
        "    val_pred_class = (val_pred_prob > 0.5).astype(int)\n",
        "\n",
        "    # Print classification report & confusion matrix\n",
        "    print(\"\\nClassification Report for Logistic Regression:\\n\")\n",
        "    print(classification_report(y_val, val_pred_class))\n",
        "    print(f\"Confusion Matrix for Logistic Regression:\\n{confusion_matrix(y_val, val_pred_class)}\")\n",
        "\n",
        "    return model, auc_score\n",
        "\n",
        "# Train and evaluate the Logistic Regression model\n",
        "logistic_model, logistic_score = train_and_evaluate_logistic_regression(X_train, y_train, X_val, y_val)"
      ],
      "metadata": {
        "colab": {
          "base_uri": "https://localhost:8080/"
        },
        "id": "WR5GcbTpBPDY",
        "outputId": "31993391-4609-4f76-9dd0-b7cdccc4bd55"
      },
      "execution_count": 9,
      "outputs": [
        {
          "output_type": "stream",
          "name": "stdout",
          "text": [
            "Logistic Regression Validation AUC: 0.7443\n",
            "\n",
            "Classification Report for Logistic Regression:\n",
            "\n",
            "              precision    recall  f1-score   support\n",
            "\n",
            "           0       0.97      1.00      0.98    113975\n",
            "           1       0.14      0.00      0.00      4133\n",
            "\n",
            "    accuracy                           0.96    118108\n",
            "   macro avg       0.55      0.50      0.49    118108\n",
            "weighted avg       0.94      0.96      0.95    118108\n",
            "\n",
            "Confusion Matrix for Logistic Regression:\n",
            "[[113957     18]\n",
            " [  4130      3]]\n"
          ]
        }
      ]
    },
    {
      "cell_type": "markdown",
      "source": [
        "Making a simple prediction from the above tarined model"
      ],
      "metadata": {
        "id": "PO2hdMOMYu-0"
      }
    },
    {
      "cell_type": "code",
      "source": [
        "y_pred = logistic_model.predict(X_val)"
      ],
      "metadata": {
        "id": "QEnyeXz4Q43L"
      },
      "execution_count": 10,
      "outputs": []
    },
    {
      "cell_type": "markdown",
      "source": [
        "### mlflow setup"
      ],
      "metadata": {
        "id": "3R4naDABY2UG"
      }
    },
    {
      "cell_type": "code",
      "source": [
        "import dagshub\n",
        "dagshub.init(repo_owner='DevDevOpsVaibhavPandey', repo_name='Notebooks', mlflow=True)"
      ],
      "metadata": {
        "colab": {
          "base_uri": "https://localhost:8080/",
          "height": 65
        },
        "id": "Zlm-J_3zMCSm",
        "outputId": "a01810e3-20f8-4c95-bd52-24bb05d39cce"
      },
      "execution_count": 11,
      "outputs": [
        {
          "output_type": "display_data",
          "data": {
            "text/plain": [
              "Accessing as DevDevOpsVaibhavPandey\n"
            ],
            "text/html": [
              "<pre style=\"white-space:pre;overflow-x:auto;line-height:normal;font-family:Menlo,'DejaVu Sans Mono',consolas,'Courier New',monospace\">Accessing as DevDevOpsVaibhavPandey\n",
              "</pre>\n"
            ]
          },
          "metadata": {}
        },
        {
          "output_type": "display_data",
          "data": {
            "text/plain": [
              "Initialized MLflow to track repo \u001b[32m\"DevDevOpsVaibhavPandey/Notebooks\"\u001b[0m\n"
            ],
            "text/html": [
              "<pre style=\"white-space:pre;overflow-x:auto;line-height:normal;font-family:Menlo,'DejaVu Sans Mono',consolas,'Courier New',monospace\">Initialized MLflow to track repo <span style=\"color: #008000; text-decoration-color: #008000\">\"DevDevOpsVaibhavPandey/Notebooks\"</span>\n",
              "</pre>\n"
            ]
          },
          "metadata": {}
        },
        {
          "output_type": "display_data",
          "data": {
            "text/plain": [
              "Repository DevDevOpsVaibhavPandey/Notebooks initialized!\n"
            ],
            "text/html": [
              "<pre style=\"white-space:pre;overflow-x:auto;line-height:normal;font-family:Menlo,'DejaVu Sans Mono',consolas,'Courier New',monospace\">Repository DevDevOpsVaibhavPandey/Notebooks initialized!\n",
              "</pre>\n"
            ]
          },
          "metadata": {}
        }
      ]
    },
    {
      "cell_type": "code",
      "source": [
        "import mlflow\n",
        "with mlflow.start_run():\n",
        "  mlflow.log_params(params)\n",
        "  mlflow.log_metric(\"Logistic Regression Validation AUC\", logistic_score)\n",
        "\n",
        "  signature = infer_signature(X_val, y_pred)\n",
        "\n",
        "  mlflow.sklearn.log_model(\n",
        "        sk_model=logistic_model,\n",
        "        artifact_path=\"logistic-model\",\n",
        "        signature=signature,\n",
        "        registered_model_name=\"sk-learn-logistic-model\",\n",
        "    )"
      ],
      "metadata": {
        "colab": {
          "base_uri": "https://localhost:8080/"
        },
        "id": "voWLziQ7MNA5",
        "outputId": "6dac0923-6074-4687-dd64-02b74e941e43"
      },
      "execution_count": 12,
      "outputs": [
        {
          "output_type": "stream",
          "name": "stderr",
          "text": [
            "Successfully registered model 'sk-learn-logistic-model'.\n",
            "2025/02/07 21:35:59 INFO mlflow.store.model_registry.abstract_store: Waiting up to 300 seconds for model version to finish creation. Model name: sk-learn-logistic-model, version 1\n",
            "Created version '1' of model 'sk-learn-logistic-model'.\n"
          ]
        },
        {
          "output_type": "stream",
          "name": "stdout",
          "text": [
            "🏃 View run vaunted-sheep-206 at: https://dagshub.com/DevDevOpsVaibhavPandey/Notebooks.mlflow/#/experiments/0/runs/bbc94d0a87c3401589a9bd6e97c83abd\n",
            "🧪 View experiment at: https://dagshub.com/DevDevOpsVaibhavPandey/Notebooks.mlflow/#/experiments/0\n"
          ]
        }
      ]
    }
  ]
}